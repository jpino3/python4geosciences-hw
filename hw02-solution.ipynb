{
 "cells": [
  {
   "cell_type": "code",
   "execution_count": 2,
   "metadata": {
    "collapsed": false
   },
   "outputs": [],
   "source": [
    "from nose.tools import assert_equal  # tool for testing solutions\n",
    "import numpy as np"
   ]
  },
  {
   "cell_type": "markdown",
   "metadata": {},
   "source": [
    "# Homework 02 Solution\n",
    "## Due Thursday, February 4th\n",
    "\n",
    "Out of 44 points for undergrads, and out of 69 points for grads."
   ]
  },
  {
   "cell_type": "markdown",
   "metadata": {},
   "source": [
    "### 1. Make a dictionary\n",
    "\n",
    "Make a dictionary, d, whose keys and values are your name, hometown, department, student status (undergrad/grad), years at TAMU, and explanation of why you are taking this class."
   ]
  },
  {
   "cell_type": "markdown",
   "metadata": {},
   "source": [
    "---\n",
    "**Solution:**\n",
    "\n",
    "Grading rubric [2 points]:\n",
    "\n",
    "* [1 pt] Successfully created a dictionary\n",
    "* [1 pt] Properly defined all keys\n"
   ]
  },
  {
   "cell_type": "code",
   "execution_count": 3,
   "metadata": {
    "collapsed": false
   },
   "outputs": [],
   "source": [
    "d = {\"name\": \"Kristen Thyng\", \"hometown\": \"Seattle\", \"department\": \"oceanography\", \n",
    "           \"status\": \"assistant research scientist\", \"years\": 3.5,\n",
    "           \"why class\": \"excited to teach something I use every day!\"}\n",
    "\n",
    "assert isinstance(d, dict)"
   ]
  },
  {
   "cell_type": "markdown",
   "metadata": {},
   "source": [
    "### 2. Test for vowels\n",
    "\n",
    "Write a function that takes a character (i.e. a string of length 1) and returns True if it is a vowel, False otherwise. For example,\n",
    "    >>> isVowel(\"a\")\n",
    "    True\n",
    "    >>> isVowel(\"b\")\n",
    "    False\n",
    "\n",
    "You can compare the input character with a known list of vowels. Don't forget about case!"
   ]
  },
  {
   "cell_type": "markdown",
   "metadata": {},
   "source": [
    "---\n",
    "**Solution:**\n",
    "\n",
    "Grading rubric [3 points]:\n",
    "\n",
    "* [1 pt] Is a function which takes in a character\n",
    "* [1 pt] Returns True or False\n",
    "* [1 pt] Passes all assertions\n",
    "\n",
    "Common issues:\n",
    "- function returns a string that contains the words True or False, but True and False are of type boolean, not string. These are very different to a computer and in use, even though they look similar to a person\n",
    "- sometimes didn’t return anything, but just printed\n",
    "- solution doesn't account for capital letters or does by writing them all out. You can use `lower` to do this in an easy way.\n"
   ]
  },
  {
   "cell_type": "code",
   "execution_count": 4,
   "metadata": {
    "collapsed": false
   },
   "outputs": [],
   "source": [
    "def isVowel(char):\n",
    "    \"\"\"Takes in a character and returns True if it is a vowel and False otherwise.\"\"\"\n",
    "    \n",
    "    if char.lower() in ['a', 'e', 'i', 'o', 'u']:\n",
    "        return True\n",
    "    else:\n",
    "        return False\n",
    "\n",
    "assert isVowel('a')\n",
    "assert isVowel('U')\n",
    "assert not isVowel('m')\n",
    "assert not isVowel(' ')"
   ]
  },
  {
   "cell_type": "markdown",
   "metadata": {},
   "source": [
    "### 3. Compute the length of a given list or string.\n",
    "\n",
    "Define a function that computes the length of a given list or string. (It is true that Python has the len() function built in, but do not use it for your solution — use a loop instead.)\n",
    "\n",
    "For example:\n",
    "    >>> length(['string1', 'string2'])\n",
    "    2\n",
    "    >>> length('string1')\n",
    "    7"
   ]
  },
  {
   "cell_type": "markdown",
   "metadata": {},
   "source": [
    "---\n",
    "**Solution:**\n",
    "\n",
    "Grading rubric [4 points]:\n",
    "\n",
    "* [1 pt] Is a function\n",
    "* [1 pt] Returns an integer\n",
    "* [1 pt] Can count for list (passes that assertion)\n",
    "* [1 pt] Can count for string (passes that assertion)\n",
    "\n",
    "Common issues:\n",
    "- Does not return a value but instead prints it"
   ]
  },
  {
   "cell_type": "code",
   "execution_count": 4,
   "metadata": {
    "collapsed": false
   },
   "outputs": [],
   "source": [
    "def length(inputs):\n",
    "    \"\"\"Compute the length of a given list or string.\"\"\"\n",
    "    \n",
    "    count = 0\n",
    "    for input in inputs:\n",
    "        count += 1\n",
    "    \n",
    "    return count\n",
    "\n",
    "# Check a list\n",
    "inputs = ['apple', 'orange']\n",
    "assert_equal(length(inputs), 2)\n",
    "\n",
    "# Check a string\n",
    "assert_equal(length('tomato'), 6)\n",
    "\n",
    "# What about a string with a space in it?\n",
    "assert_equal(length('bacon and eggs'), 14)"
   ]
  },
  {
   "cell_type": "markdown",
   "metadata": {},
   "source": [
    "### 4. Reverse a string\n",
    "\n",
    "Define a function reverse() that computes the reversal of a string. For example, \n",
    "    >>> reverse(\"I am testing\")\n",
    "    \"gnitset ma I\""
   ]
  },
  {
   "cell_type": "markdown",
   "metadata": {},
   "source": [
    "---\n",
    "**Solution:**\n",
    "\n",
    "Grading rubric [3 points]:\n",
    "\n",
    "* [1 pt] Is a function\n",
    "* [1 pt] Takes in and returns a string\n",
    "* [1 pt] Reverses input string"
   ]
  },
  {
   "cell_type": "code",
   "execution_count": 6,
   "metadata": {
    "collapsed": false
   },
   "outputs": [],
   "source": [
    "def reverse(string):\n",
    "    \"\"\"Return the reverse of a string.\"\"\"\n",
    "    \n",
    "    return string[::-1]\n",
    "\n",
    "assert_equal(reverse('I am testing'), 'gnitset ma I')"
   ]
  },
  {
   "cell_type": "markdown",
   "metadata": {},
   "source": [
    "### 5. Check for palindromes\n",
    "\n",
    "Define a function is_palindrome() that recognizes palindromes (i.e. words and phrases that look the same written forwards and backwards). Make sure that case and spaces are ignored in your function; for example,\n",
    "    >>> is_palindrome(\"Never odd or even\")\n",
    "    True\n",
    "\n",
    "You can use your solution to #4 for solving this problem."
   ]
  },
  {
   "cell_type": "markdown",
   "metadata": {},
   "source": [
    "---\n",
    "**Solution:**\n",
    "\n",
    "Grading rubric [4 points]:\n",
    "\n",
    "* [1 pt] Is a function\n",
    "* [1 pt] Works for a palindrome word\n",
    "* [1 pt] Works for palindrome phrases (ignores spaces)\n",
    "* [1 pt] Works regardless of case"
   ]
  },
  {
   "cell_type": "code",
   "execution_count": 7,
   "metadata": {
    "collapsed": false
   },
   "outputs": [],
   "source": [
    "def is_palindrome(string):\n",
    "    \"\"\"Returns True for a palindrome and False otherwise.\"\"\"\n",
    "    \n",
    "    string = string.replace(\" \", \"\")  # Remove spaces by replacing them with nothing\n",
    "\n",
    "    if string.lower() == reverse(string).lower():\n",
    "        return True\n",
    "    else:\n",
    "        return False\n",
    "\n",
    "assert is_palindrome(\"radar\")\n",
    "assert is_palindrome(\"rad dar\")\n",
    "assert is_palindrome(\"Never odd or even\")\n",
    "assert not is_palindrome(\"I am testing\")"
   ]
  },
  {
   "cell_type": "markdown",
   "metadata": {},
   "source": [
    "### 6. Number lines in a text file\n",
    "\n",
    "Write a script (i.e., just code, no need to write a function) that numbers all of the lines in a text file, skipping empty lines, and writes the output to another specified file. The output file might look something like\n",
    "\n",
    "    1    This is the first line\n",
    "    2    This is the second line\n",
    "    \n",
    "    3    This is the fourth line\n",
    "\n",
    "where the third line is empty, and not counted."
   ]
  },
  {
   "cell_type": "markdown",
   "metadata": {},
   "source": [
    "---\n",
    "**Solution:**\n",
    "\n",
    "Grading rubric [4 points]:\n",
    "\n",
    "* [1 pt] Can read in a reasonably random file\n",
    "* [1 pt] Numbers lines\n",
    "* [1 pt] Doesn't number empty lines but keeps numbering system consecutive\n",
    "* [1 pt] Writes results properly to output file\n",
    "\n",
    "Common issues:\n",
    "- Didn't read in from a file.\n",
    "- removed empty lines\n",
    "- The input from the file that was read in was overwritten."
   ]
  },
  {
   "cell_type": "code",
   "execution_count": 8,
   "metadata": {
    "collapsed": false
   },
   "outputs": [],
   "source": [
    "inputfile = 'hw02-inputfile.txt'\n",
    "outputfile = inputfile.split('.')[0] + '_mod.txt'\n",
    "\n",
    "fin = open(inputfile, 'r')\n",
    "fout = open(outputfile, 'w')\n",
    "\n",
    "fin.seek(0)  # This sets the pointer back to the beginning of the file. This allows us to run this\n",
    "             # block of code many times without reopening the file each time.\n",
    "\n",
    "i = 0  # initialize line counter. Don't use enumerate to index bc of potential blank lines\n",
    "for line in fin.readlines():  # iterate over each line in the file. Each line is a string.\n",
    "    if not line.split():  # Test for an empty list, the same as if data == []\n",
    "        fout.write('\\n')\n",
    "    else:\n",
    "        fout.write(str(i) + ' ' + line)\n",
    "        i += 1\n",
    "fout.close()"
   ]
  },
  {
   "cell_type": "markdown",
   "metadata": {},
   "source": [
    "### 7. Convert list of words into list of integers of length of words\n",
    "\n",
    "Write a series of functions that maps a list of words into a list of integers representing the lengths of the correponding words. Write them in three different ways: \n",
    "\n",
    "1. using a for-loop\n",
    "\n",
    "2. using the higher order function map(), and \n",
    "\n",
    "3. using list comprehensions. \n",
    "\n",
    "Do not use the len() function.\n",
    "\n",
    "For example,\n",
    "\n",
    "    >>> method1(['list', 'of', 'words'])\n",
    "    [4, 2, 5]"
   ]
  },
  {
   "cell_type": "markdown",
   "metadata": {},
   "source": [
    "---\n",
    "**Solution:**\n",
    "\n",
    "Grading rubric [8 points]:\n",
    "\n",
    "* [2 pts] Method 1\n",
    "* [3 pts] Method 2\n",
    "* [3 pts] Method 3\n",
    "\n",
    "Notes: \n",
    "\n",
    "* Should use solution from Question 3."
   ]
  },
  {
   "cell_type": "code",
   "execution_count": 6,
   "metadata": {
    "collapsed": false
   },
   "outputs": [],
   "source": [
    "# Method 1\n",
    "def method1(words):\n",
    "    \"\"\"Map list words to a list of integers of length of the words, using a for loop.\"\"\"\n",
    "    lens = []\n",
    "    for word in words:\n",
    "        lens.append(length(word))  # use previously-written function, from #3\n",
    "    return lens\n",
    "\n",
    "# Method 2\n",
    "def method2(words):\n",
    "    \"\"\"Map list words to a list of integers of length of the words, using map().\"\"\"\n",
    "    return list(map(length, words))\n",
    "\n",
    "    \n",
    "# Method 3\n",
    "def method3(words):\n",
    "    \"\"\"Map list words to a list of integers of length of the words, using list comprehension.\"\"\"\n",
    "    lens = [length(word) for word in words]\n",
    "    return lens\n",
    "\n",
    "\n",
    "words = ['one', 'two', 'three']\n",
    "assert_equal(method1(words), [3, 3, 5])\n",
    "\n",
    "# Check that the result is the same for all methods\n",
    "assert_equal(method1(words), method2(words), method3(words))\n"
   ]
  },
  {
   "cell_type": "markdown",
   "metadata": {},
   "source": [
    "### 8. Encode and decode using ROT-13\n",
    "\n",
    "In cryptography, a Caesar cipher is a very simple encryption techniques in which each letter in the plain text is replaced by a letter some fixed number of positions down the alphabet. For example, with a shift of 3, A would be replaced by D, B would become E, and so on. The method is named after Julius Caesar, who used it to communicate with his generals. ROT-13 (\"rotate by 13 places\") is a widely used example of a Caesar cipher where the shift is 13. In Python, the key for ROT-13 may be represented by means of the following dictionary:\n",
    "\n",
    "    key = {'a':'n', 'b':'o', 'c':'p', 'd':'q', 'e':'r', 'f':'s', 'g':'t', 'h':'u', \n",
    "           'i':'v', 'j':'w', 'k':'x', 'l':'y', 'm':'z', 'n':'a', 'o':'b', 'p':'c', \n",
    "           'q':'d', 'r':'e', 's':'f', 't':'g', 'u':'h', 'v':'i', 'w':'j', 'x':'k',\n",
    "           'y':'l', 'z':'m', 'A':'N', 'B':'O', 'C':'P', 'D':'Q', 'E':'R', 'F':'S', \n",
    "           'G':'T', 'H':'U', 'I':'V', 'J':'W', 'K':'X', 'L':'Y', 'M':'Z', 'N':'A', \n",
    "           'O':'B', 'P':'C', 'Q':'D', 'R':'E', 'S':'F', 'T':'G', 'U':'H', 'V':'I', \n",
    "           'W':'J', 'X':'K', 'Y':'L', 'Z':'M'}\n",
    "\n",
    "Your task in this exercise is to implement an encoder/decoder of ROT-13. Once you're done, you will be able to read the following secret message:\n",
    "\n",
    "       Pnrfne pvcure? V zhpu cersre Pnrfne fnynq!\n",
    "\n",
    "Note that since English has 26 characters, your ROT-13 program will be able to both encode and decode texts written in English."
   ]
  },
  {
   "cell_type": "markdown",
   "metadata": {},
   "source": [
    "---\n",
    "**Solution:**\n",
    "\n",
    "Grading rubric [4 points]:\n",
    "\n",
    "* [2 pts] Solution accurately translates secret message\n",
    "* [2 pts] Can re-encode secret message successfully\n",
    "\n",
    "Notes:\n",
    "- Check solution for how to use dictionary; some people used the `translate` or `maketrans` function\n",
    "- Some solicited input from user — nice touch!"
   ]
  },
  {
   "cell_type": "code",
   "execution_count": 10,
   "metadata": {
    "collapsed": false
   },
   "outputs": [],
   "source": [
    "key = {'a':'n', 'b':'o', 'c':'p', 'd':'q', 'e':'r', 'f':'s', 'g':'t', 'h':'u', \n",
    "       'i':'v', 'j':'w', 'k':'x', 'l':'y', 'm':'z', 'n':'a', 'o':'b', 'p':'c', \n",
    "       'q':'d', 'r':'e', 's':'f', 't':'g', 'u':'h', 'v':'i', 'w':'j', 'x':'k',\n",
    "       'y':'l', 'z':'m', 'A':'N', 'B':'O', 'C':'P', 'D':'Q', 'E':'R', 'F':'S', \n",
    "       'G':'T', 'H':'U', 'I':'V', 'J':'W', 'K':'X', 'L':'Y', 'M':'Z', 'N':'A', \n",
    "       'O':'B', 'P':'C', 'Q':'D', 'R':'E', 'S':'F', 'T':'G', 'U':'H', 'V':'I', \n",
    "       'W':'J', 'X':'K', 'Y':'L', 'Z':'M'}\n",
    "\n",
    "def rot13(letter):\n",
    "    \"\"\"Swap letter indicated in key.\"\"\"\n",
    "    \n",
    "    try:\n",
    "        return key[letter]\n",
    "    except:\n",
    "        return letter\n",
    "\n",
    "phrase = 'Pnrfne pvcure? V zhpu cersre Pnrfne fnynq!'\n",
    "\n",
    "translatedchars = list(map(rot13, phrase))  # Also used in #7, map connects a function with \n",
    "                                            # each letter in phrase.\n",
    "translated = ''.join(translatedchars)  # we got a bunch of characters back. Join combines them\n",
    "                                       # into a string\n",
    "\n",
    "# recode\n",
    "retranslatedchars = list(map(rot13, translated))\n",
    "retranslated = ''.join(retranslatedchars)\n",
    "    \n",
    "# Check decode\n",
    "assert_equal(translated, \"Caesar cipher? I much prefer Caesar salad!\")\n",
    "assert_equal(retranslated, phrase)"
   ]
  },
  {
   "cell_type": "markdown",
   "metadata": {},
   "source": [
    "### 9. Fix the code\n",
    "\n",
    "\"99 Bottles of Beer\" is a traditional song in the United States and Canada. It is popular to sing on long trips, as it has a very repetitive format which is easy to memorize, and can take a long time to sing. The song's simple lyrics are as follows:\n",
    "\n",
    "99 bottles of beer on the wall, 99 bottles of beer.\n",
    "Take one down, pass it around, 98 bottles of beer on the wall.\n",
    "\n",
    "The same verse is repeated, each time with one fewer bottle. The song is completed when the singer or singers reach zero.\n",
    "\n",
    "Code to generate all verses of this song has already been written and is provided below. However, it has several problems in it that prevent it from running properly. Your task is to fix the code, keeping a list of what you change, so that the code generates 3 verses of the song."
   ]
  },
  {
   "cell_type": "code",
   "execution_count": 11,
   "metadata": {
    "collapsed": false
   },
   "outputs": [
    {
     "ename": "SyntaxError",
     "evalue": "invalid syntax (<ipython-input-11-2eb1e079f71a>, line 4)",
     "output_type": "error",
     "traceback": [
      "\u001b[0;36m  File \u001b[0;32m\"<ipython-input-11-2eb1e079f71a>\"\u001b[0;36m, line \u001b[0;32m4\u001b[0m\n\u001b[0;31m    if num != 1\u001b[0m\n\u001b[0m               ^\u001b[0m\n\u001b[0;31mSyntaxError\u001b[0m\u001b[0;31m:\u001b[0m invalid syntax\n"
     ]
    }
   ],
   "source": [
    "def words(num):\n",
    "    \"\"\"Returns words with proper number of beer bottles filled in.\"\"\"\n",
    "    \n",
    "    if num != 1\n",
    "        return str(num) + ' bottles of beer on the wall, ' + str(num) + ' bottles of beer.\\n' + \n",
    "            'Take one down, pass it around, ' + str(num-1) + ' bottles of beer on the wall.\\n'\n",
    "\n",
    "    elif num = 1:\n",
    "        return str(num) + ' bottle of beer on the wall, ' + str(num) + ' bottle of beer.\\n' + \\\n",
    "            'Take one down, pass it around, ' + str(num-1) + ' bottles of beer on the wall.\\n'\n",
    "\n",
    "\n",
    "numbottles = 3\n",
    "        \n",
    "for i in range[numbottles, 0, 1]\n",
    " print(words(i))"
   ]
  },
  {
   "cell_type": "markdown",
   "metadata": {},
   "source": [
    "---\n",
    "**Solution:**\n",
    "\n",
    "The code has several common typos:\n",
    "\n",
    "* Using brackets instead of parenthesis with `range`.\n",
    "* The step input into `range` is 1 instead of -1, which we want since we are counting backward.\n",
    "* Missing colons at the end of the `for` loop call and the `if` statement.\n",
    "* The `elif` statement is checking a conditional and should be `==` instead of `=`.\n",
    "* The indentation on the print statement is incorrect.\n",
    "* The `if` return statement is missing a `\\` to continue lines.\n",
    "\n",
    "Grading rubric [3 pts]:\n",
    "\n",
    "* 0.5 points for each error\n",
    "* -0.5 if some output message sits between the verses"
   ]
  },
  {
   "cell_type": "code",
   "execution_count": 12,
   "metadata": {
    "collapsed": false
   },
   "outputs": [
    {
     "name": "stdout",
     "output_type": "stream",
     "text": [
      "3 bottles of beer on the wall, 3 bottles of beer.\n",
      "Take one down, pass it around, 2 bottles of beer on the wall.\n",
      "\n",
      "2 bottles of beer on the wall, 2 bottles of beer.\n",
      "Take one down, pass it around, 1 bottles of beer on the wall.\n",
      "\n",
      "1 bottle of beer on the wall, 1 bottle of beer.\n",
      "Take one down, pass it around, 0 bottles of beer on the wall.\n",
      "\n"
     ]
    }
   ],
   "source": [
    "def words(num):\n",
    "    \"\"\"Returns words with proper number of beer bottles filled in.\"\"\"\n",
    "    \n",
    "    if num != 1:\n",
    "        return str(num) + ' bottles of beer on the wall, ' + str(num) + ' bottles of beer.\\n' + \\\n",
    "            'Take one down, pass it around, ' + str(num-1) + ' bottles of beer on the wall.\\n'\n",
    "\n",
    "    elif num == 1:\n",
    "        return str(num) + ' bottle of beer on the wall, ' + str(num) + ' bottle of beer.\\n' + \\\n",
    "            'Take one down, pass it around, ' + str(num-1) + ' bottles of beer on the wall.\\n'\n",
    "\n",
    "\n",
    "numbottles = 3\n",
    "        \n",
    "for i in range(numbottles, 0, -1):\n",
    "    print(words(i))"
   ]
  },
  {
   "cell_type": "markdown",
   "metadata": {},
   "source": [
    "### 10. Reading in and parsing a file\n",
    "\n",
    "Read in `data/GPS.dat`, a file containing GPS track information. This file is tab-delimited, but contains other characters as well. It has data from several drifters, whose names are listed in the file after the TRACK label; the first is named \"ACTIVE LOG\". \n",
    "\n",
    "Read in the date and time information from the file for the drifter ACTIVE LOG, and form a list of datetime objects with this information, where each line in the file is a data point that should have its own datetime object.\n",
    "\n",
    "*_Grad students:_* Separately, read in the locations and speed at all data points for each drifter. Create a dictionary with the name of each track as a key. The value of the dictionary will be another dictionary that has keys `latitude`, `longitude`, and `speed`.  That is, `gps['GANDALF']['speed']` will return a list containing a timeseries of the speed of that track."
   ]
  },
  {
   "cell_type": "markdown",
   "metadata": {},
   "source": [
    "---\n",
    "**Solution:**\n",
    "\n",
    "Grading rubric [9 points]:\n",
    "\n",
    "* [1 pt] Opens file and reads in lines\n",
    "* [1 pt] Uses data only from 'Trackpoint' lines\n",
    "* [2 pts] Uses `datetime` package properly\n",
    "* [2 pts] Ends up with a list of datetimes\n",
    "* [3 pts] Is able to pass the assertions\n",
    "\n",
    "Issues:\n",
    "- People didn't always use the actual `datetime` package but did get some practice making their own class\n",
    "- Some trouble with stopping reading in after the first drifter data, instead of reading it all in."
   ]
  },
  {
   "cell_type": "code",
   "execution_count": 7,
   "metadata": {
    "collapsed": false
   },
   "outputs": [],
   "source": [
    "from datetime import datetime\n",
    "\n",
    "# Copied some code from class materials\n",
    "f = open('../python4geosciences/data/GPS.dat')\n",
    "f.seek(0)  # This sets the pointer back to the beginning of the file. This allows us to run this\n",
    "           # block of code many times without reopening the file each time.\n",
    "\n",
    "trackname = None  # initialize the track name\n",
    "datetimes = []\n",
    "for line in f.readlines():        # iterate over each line in the file. Each line is a string.\n",
    "    data = line.split('\\t')       # split the line of text into words, each separated by tabs, to get full drifter name\n",
    "    if data[0] == 'Track':        # look for track data\n",
    "        trackname = data[1]       # save trackname since we only want data from ACTIVE LOG\n",
    "        continue\n",
    "    if trackname == 'ACTIVE LOG':\n",
    "        if data[0] == 'Trackpoint':   # We only want to consider lines that begin with 'Trackpoint', as these hold the data\n",
    "            datetimeinfo = data[2].split()\n",
    "            date = datetimeinfo[0].split('/')\n",
    "            month = int(date[0])\n",
    "            day = int(date[1])\n",
    "            year = int(date[2])\n",
    "            time = datetimeinfo[1].split(':')\n",
    "            hour = int(time[0])\n",
    "            min = int(time[1])\n",
    "            sec = int(time[2])\n",
    "            if datetimeinfo[2] == 'PM':\n",
    "                hour = hour + 12\n",
    "            datetimes.append(datetime(year, month, day, hour, min, sec))\n",
    "            \n",
    "    else:\n",
    "        continue\n",
    "\n",
    "# Check results\n",
    "assert datetimes[0] == datetime(2006, 5, 20, 13, 34, 55)  # check first entry\n",
    "assert datetimes[-1] == datetime(2006, 5, 20, 15, 31, 48)  # check last entry\n",
    "assert len(datetimes) == 469"
   ]
  },
  {
   "cell_type": "markdown",
   "metadata": {},
   "source": [
    "---\n",
    "**Solution:**\n",
    "\n",
    "Grading rubric [15 points]:\n",
    "\n",
    "* [1 pt] Dictionary has keys of the name of each drifter in file\n",
    "* [3 pts] There is lon, lat, and speed for each drifter\n",
    "* [2 pts] Solution deals with empty values\n",
    "* [4 pts] The dictionary setup is correct so that it can be used like `gps['GANDALF']['speed']`\n",
    "* [5 pts] Passes all assertion tests [1 pt/assertion]\n",
    "\n",
    "Issues:\n",
    "- Some avoided the issue of different line lengths (due to some drifters having speed data and others not) instead of dealing with it directly. This was easiest to do if you split by tab instead of whitespace\n",
    "- Some problems getting the data into the correct format"
   ]
  },
  {
   "cell_type": "code",
   "execution_count": 8,
   "metadata": {
    "collapsed": false
   },
   "outputs": [],
   "source": [
    "## Grad student problem ##\n",
    "\n",
    "missing_value = -999\n",
    "\n",
    "# Copied some code from class materials\n",
    "f = open('../python4geosciences/data/GPS.dat')\n",
    "f.seek(0)  # This sets the pointer back to the beginning of the file. This allows us to run this\n",
    "           # block of code many times without reopening the file each time.\n",
    "\n",
    "gps = {}  # initialize drifter dictionary\n",
    "trackname = None  # initialize the track name\n",
    "latitudes = []     # create empty lists to store numerical values of lat and lon\n",
    "longitudes = []\n",
    "\n",
    "for line in f.readlines():        # iterate over each line in the file. Each line is a string.\n",
    "    data = line.split('\\t')       # Use tabs because some lines have no data for entries but they do have tabs\n",
    "    if not data: continue         # Test for an empty list, the same as if data == []\n",
    "    if data[0] == 'Track':        # look for track data\n",
    "        trackname = data[1]      \n",
    "        gps[trackname] = dict()\n",
    "        gps[trackname]['lat'] = []  # initialize\n",
    "        gps[trackname]['lon'] = []\n",
    "        gps[trackname]['speed'] = []\n",
    "        continue\n",
    "    if data[0] == 'Trackpoint':\n",
    "        # this is different from in class because I split the line by tabs instead of spaces\n",
    "        llstring = data[1].split(' ')  # lat lon string\n",
    "        lat = int(llstring[0][1:]) + float(llstring[1])/60.\n",
    "        gps[trackname]['lat'].append(lat)\n",
    "        lon = int(llstring[2][1:]) + float(llstring[3])/60.\n",
    "        gps[trackname]['lon'].append(lon)\n",
    "        if len(data) > 8:  # this catches the one weird line with fewer tabs, which has no speed\n",
    "            speed = data[7].split(' ')[0]\n",
    "            if speed == '':\n",
    "                gps[trackname]['speed'].append(missing_value)  # there aren't values available for many entries\n",
    "            else:  # it is a string containing a number\n",
    "                gps[trackname]['speed'].append(float(speed))\n",
    "        else:\n",
    "            gps[trackname]['speed'].append(missing_value)\n",
    "\n",
    "assert_equal(len(gps), 5)  # test for all drifters being there\n",
    "assert gps['STRIDER']['lon']  # test for one containing lon\n",
    "assert_equal(len(gps['SAMWISE']), 3)  # test for 3 entries in SMA\n",
    "assert_equal(gps['LEGOLAS']['lat'][5], 42 + 48.872/60)\n",
    "assert_equal(gps['ACTIVE LOG']['speed'][-5], 4.7)\n"
   ]
  },
  {
   "cell_type": "code",
   "execution_count": 10,
   "metadata": {
    "collapsed": false
   },
   "outputs": [
    {
     "data": {
      "text/plain": [
       "{'lat': [42.82065, 42.819833333333335, 42.81883333333333],\n",
       " 'lon': [70.76708333333333, 70.76886666666667, 70.77156666666667],\n",
       " 'speed': [-999, -999, -999]}"
      ]
     },
     "execution_count": 10,
     "metadata": {},
     "output_type": "execute_result"
    }
   ],
   "source": [
    "gps['SAMWISE']"
   ]
  },
  {
   "cell_type": "markdown",
   "metadata": {},
   "source": [
    "### 11. (Grad) Constructing terms in a Taylor series to approximate a function\n",
    "\n",
    "The Taylor series expansion for the sine function is given by \n",
    "$$ \\text{sin}(x) = \\Sigma^\\infty_{k=0} \\frac{(-1)^k x^{1+2k}}{(1+2k)!}$$\n",
    "\n",
    "This expression gives an exact form for sin(x) when an infinite number of terms are used; any truncation gives an approximation. Write a loop that constructs terms from $k=0$ up to $k=N$. Don't use any function for the factorial since we haven't gotten to NumPy... create it yourself, instead. Provide the value of sin(0.5) with N=5 terms. How many terms do you need to include before the answer starts to plateau?\n"
   ]
  },
  {
   "cell_type": "markdown",
   "metadata": {},
   "source": [
    "---\n",
    "**Solution:**\n",
    "\n",
    "With N=5, sin(0.5)=0.4794. Looking at the summation after each additional term is added, we see that it converges to the answer very quickly: even for N=1, the sum is very close to the answer.\n",
    "\n",
    "Grading rubric [10 points]:\n",
    "\n",
    "* [4 pts] Computes Taylor series for sine (though might not be in the correct set up for giving the numbers of terms requested)\n",
    "* [3 pts] Passes assertion for computing sin(0.5)\n",
    "* [1 pt] Uses correct number of terms\n",
    "* [2 pts] Says something about the answer plateau or converging quickly\n",
    "\n",
    "Notes:\n",
    "- Some people didn't actually use the N=5 term"
   ]
  },
  {
   "cell_type": "code",
   "execution_count": 18,
   "metadata": {
    "collapsed": false
   },
   "outputs": [
    {
     "name": "stdout",
     "output_type": "stream",
     "text": [
      "k= 0\n",
      "k= 1\n",
      "k= 2\n",
      "k= 3\n",
      "k= 4\n",
      "k= 5\n",
      "tot= 0.4794255386041834\n"
     ]
    }
   ],
   "source": [
    "x = 0.5\n",
    "N = 5\n",
    "\n",
    "tot = 0.  # begin with the sum equal to zero so we can add to it as we loop\n",
    "for k in range(N+1):\n",
    "    print('k=', k)\n",
    "    numerator = (-1)**k * x**(1+2*k)\n",
    "    \n",
    "    # Calculate the denominator factorial with a loop\n",
    "    factemp = 1 + 2*k\n",
    "    fac = factemp\n",
    "    i = 1\n",
    "    while factemp > 1:\n",
    "        factemp = (1 + 2*k) - i\n",
    "        i += 1\n",
    "        fac *= factemp\n",
    " \n",
    "    tot += numerator/fac\n",
    "print('tot=', tot)\n",
    "        \n",
    "assert np.allclose(tot, 0.4794255386041834)"
   ]
  },
  {
   "cell_type": "code",
   "execution_count": null,
   "metadata": {
    "collapsed": true
   },
   "outputs": [],
   "source": []
  }
 ],
 "metadata": {
  "kernelspec": {
   "display_name": "Python 3",
   "language": "python",
   "name": "python3"
  },
  "language_info": {
   "codemirror_mode": {
    "name": "ipython",
    "version": 3
   },
   "file_extension": ".py",
   "mimetype": "text/x-python",
   "name": "python",
   "nbconvert_exporter": "python",
   "pygments_lexer": "ipython3",
   "version": "3.5.1"
  }
 },
 "nbformat": 4,
 "nbformat_minor": 0
}
