{
 "cells": [
  {
   "cell_type": "markdown",
   "metadata": {},
   "source": [
    "# Homework 03\n",
    "\n",
    "## Due Thursday, February 18th at 11:59 P.M.\n",
    "\n",
    "Jordan V. Pino\n",
    "\n",
    "OCNG 689\n",
    "\n",
    "Dr. Robert Hetland and Dr. Kristen Thyng\n",
    "\n",
    "10 February 2016"
   ]
  },
  {
   "cell_type": "code",
   "execution_count": 2,
   "metadata": {
    "collapsed": true
   },
   "outputs": [],
   "source": [
    "import numpy as np # imports!\n",
    "import math\n",
    "import time\n",
    "from numpy.lib import stride_tricks\n",
    "from nose.tools import assert_equal\n",
    "import glob "
   ]
  },
  {
   "cell_type": "markdown",
   "metadata": {},
   "source": [
    "### 1. Vector manipulation\n",
    "\n",
    "Create a vector of zeros of size 10 but have the fifth value be 1."
   ]
  },
  {
   "cell_type": "code",
   "execution_count": 3,
   "metadata": {
    "collapsed": false
   },
   "outputs": [
    {
     "name": "stdout",
     "output_type": "stream",
     "text": [
      "[ 0.  0.  0.  0.  1.  0.  0.  0.  0.  0.]\n"
     ]
    }
   ],
   "source": [
    "a = np.zeros(10)\n",
    "a[4] = 1 # Fifth value 5, so we need the 4th index because indexing starts at 0!\n",
    "print(a)"
   ]
  },
  {
   "cell_type": "markdown",
   "metadata": {},
   "source": [
    "### 2. Vector range\n",
    "\n",
    "Create a vector with values ranging from 10 to 49, inclusive."
   ]
  },
  {
   "cell_type": "code",
   "execution_count": 4,
   "metadata": {
    "collapsed": false
   },
   "outputs": [
    {
     "name": "stdout",
     "output_type": "stream",
     "text": [
      "[10 11 12 13 14 15 16 17 18 19 20 21 22 23 24 25 26 27 28 29 30 31 32 33 34\n",
      " 35 36 37 38 39 40 41 42 43 44 45 46 47 48 49]\n"
     ]
    }
   ],
   "source": [
    "b = np.arange(10, 50) # Since you want inclusive, you have to go from 10-50!\n",
    "print(b)"
   ]
  },
  {
   "cell_type": "markdown",
   "metadata": {},
   "source": [
    "### 3. Reverse a vector\n",
    "\n",
    "Write a function, `reverse(x)` which reverses a vector, so that the first element becomes the last element. The API should be\n",
    "\n",
    "    return a 1D vector with the elements reversed\n",
    "    \n",
    "    Input\n",
    "    -----\n",
    "        x: 1D array\n",
    "    \n",
    "    Output\n",
    "    ------\n",
    "        res: 1D array, with the elements of `x` reversed\n",
    "\n",
    "Include this (or an equivalent description) in the function's docstring."
   ]
  },
  {
   "cell_type": "code",
   "execution_count": 5,
   "metadata": {
    "collapsed": false
   },
   "outputs": [
    {
     "name": "stdout",
     "output_type": "stream",
     "text": [
      "[10, 9, 8, 7, 6]\n"
     ]
    }
   ],
   "source": [
    "'''return a 1D vector with the elements reversed\n",
    "\n",
    "Input:\n",
    "-----\n",
    "    x: 1D array\n",
    "\n",
    "Output:\n",
    "------\n",
    "    res: 1D array, with the elements of `x` reversed'''\n",
    "\n",
    "def reverse(arr):\n",
    "    return arr[::-1]\n",
    "\n",
    "print (reverse([6,7,8,9,10])) # Test the function."
   ]
  },
  {
   "cell_type": "markdown",
   "metadata": {},
   "source": [
    "### 4. Find indices of non-zero elements\n",
    "\n",
    "Write a function `find_nonzero(x)` that finds the indices of non-zero elements, with an API like\n",
    "\n",
    "    return the indices of non-zero elements of an array.\n",
    "\n",
    "    Input:      x:  array\n",
    "    Output:     indices: array of integer indices\n",
    "\n",
    "Use the function to get out the non-zero elements from an array containing the elements [1,2,0,0,4,0]."
   ]
  },
  {
   "cell_type": "code",
   "execution_count": 6,
   "metadata": {
    "collapsed": false
   },
   "outputs": [
    {
     "name": "stdout",
     "output_type": "stream",
     "text": [
      "((array([0, 1, 4]),), array([[1, 2, 4]]))\n"
     ]
    }
   ],
   "source": [
    "''' return the indices of non-zero elements of an array.\n",
    "\n",
    "Input:\n",
    "-----\n",
    "    x:  array\n",
    "    \n",
    "Output:\n",
    "------\n",
    "    indices: array of integer indices '''\n",
    "\n",
    "def find_nonzero(x):\n",
    "    ind =  np.nonzero(x) # The problem does not explicitly say not to use the nonzero() function, so I used it.\n",
    "    num = np.take(x, ind) # Get the non-zero elements from the array!\n",
    "    return ind, num\n",
    "\n",
    "print (find_nonzero([1,2,0,0,4,0])) # Test the function."
   ]
  },
  {
   "cell_type": "markdown",
   "metadata": {},
   "source": [
    "### 5. Array with random values\n",
    "\n",
    "Create a 3x3x3 array with normally distributed ($\\mu =0, \\sigma=1)$ random values."
   ]
  },
  {
   "cell_type": "code",
   "execution_count": 7,
   "metadata": {
    "collapsed": false
   },
   "outputs": [
    {
     "name": "stdout",
     "output_type": "stream",
     "text": [
      "[[[ 0.44933723  0.53153197  0.61084811]\n",
      "  [ 0.54395858  0.46727993  0.78674976]\n",
      "  [ 0.43482455  0.6701155   0.54357178]]\n",
      "\n",
      " [[ 0.36228931  0.59524652  0.50573328]\n",
      "  [ 0.37993617  0.34953441  0.65760496]\n",
      "  [ 0.46614971  0.47387812  0.6182021 ]]\n",
      "\n",
      " [[ 0.34985522  0.54797025  0.38867648]\n",
      "  [ 0.56225496  0.37365086  0.579304  ]\n",
      "  [ 0.36222072  0.54223908  0.58761981]]]\n"
     ]
    }
   ],
   "source": [
    "a = np.random.normal(0.5, 0.1, (3,3,3))\n",
    "print(a)"
   ]
  },
  {
   "cell_type": "markdown",
   "metadata": {},
   "source": [
    "### 6. Operations on an array with random values\n",
    "\n",
    "Create a 10x10 array with random values. Find \n",
    "- the minimum value of the 2nd row\n",
    "- the maximum value of the 4th column"
   ]
  },
  {
   "cell_type": "code",
   "execution_count": 8,
   "metadata": {
    "collapsed": false,
    "scrolled": true
   },
   "outputs": [
    {
     "name": "stdout",
     "output_type": "stream",
     "text": [
      "0.023351126929\n",
      "0.899141066949\n"
     ]
    }
   ],
   "source": [
    "c = np.random.rand(10,10) # Create a 10 x 10 array with random values.\n",
    "\n",
    "#print(c)\n",
    "\n",
    "# Second row, minimum value:\n",
    "second = c[1, :] \n",
    "print(second.min()) \n",
    "\n",
    "# Fourth column, maximum value:\n",
    "fourth = c[: ,3]\n",
    "print(fourth.max())"
   ]
  },
  {
   "cell_type": "markdown",
   "metadata": {},
   "source": [
    "### 7. Vector without end points\n",
    "\n",
    "Create a vector of size 10 with values ranging from 0 to 1, both excluded."
   ]
  },
  {
   "cell_type": "code",
   "execution_count": 9,
   "metadata": {
    "collapsed": false,
    "scrolled": true
   },
   "outputs": [
    {
     "name": "stdout",
     "output_type": "stream",
     "text": [
      "[ 0.09090909  0.18181818  0.27272727  0.36363636  0.45454545  0.54545455\n",
      "  0.63636364  0.72727273  0.81818182  0.90909091]\n"
     ]
    }
   ],
   "source": [
    "a = np.linspace(0,1,12,endpoint=True)[1:-1]\n",
    "print(a)"
   ]
  },
  {
   "cell_type": "markdown",
   "metadata": {},
   "source": [
    "### 8. Sorted random vector\n",
    "\n",
    "Create a random vector of size 10, then sort it."
   ]
  },
  {
   "cell_type": "code",
   "execution_count": 10,
   "metadata": {
    "collapsed": false
   },
   "outputs": [
    {
     "name": "stdout",
     "output_type": "stream",
     "text": [
      "[ 0.1956853   0.23579544  0.23606878  0.35912713  0.49576931  0.66984411\n",
      "  0.68925054  0.75498424  0.78431311  0.81338259]\n"
     ]
    }
   ],
   "source": [
    "a = np.random.rand(10) # Create a random vector of size 10.\n",
    "a.sort() # Sort the array.\n",
    "print(a) # Print array showing sorted values in ascending order."
   ]
  },
  {
   "cell_type": "markdown",
   "metadata": {},
   "source": [
    "### 9. Test for array equality\n",
    "\n",
    "Write a function `is_equal(A, B)` that compare two arrays `A` and `B` and checks to see if they are equal. \n",
    "\n",
    "    return True if two arrays are the same shape and all the elements are equal.\n",
    "    \n",
    "    Inputs:\n",
    "        A, B:  array\n",
    "    Output:\n",
    "        Bool:  True if A and B have the same shape and identical elements.\n",
    "\n",
    "The arrays count as equal if they are the same shape and all elements in the array are equal."
   ]
  },
  {
   "cell_type": "code",
   "execution_count": 11,
   "metadata": {
    "collapsed": false
   },
   "outputs": [
    {
     "name": "stdout",
     "output_type": "stream",
     "text": [
      "False\n"
     ]
    }
   ],
   "source": [
    "'''return True if two arrays are the same shape and all the elements are equal.\n",
    "\n",
    "Inputs:\n",
    "    A, B:  array\n",
    "Output:\n",
    "    Bool:  True if A and B have the same shape and identical elements.'''\n",
    "\n",
    "def is_equal(A,B):\n",
    "    if np.array_equal(A,B): # The problem does not explicitly say not to use the array_equal() function, so I used it. \n",
    "        return True\n",
    "    else:\n",
    "        return False\n",
    "    \n",
    "print (is_equal([np.arange(1,15,1)],[np.arange(1,16,1)])) # Test the function."
   ]
  },
  {
   "cell_type": "markdown",
   "metadata": {},
   "source": [
    "### 10. Subtract the row mean from rows of a matrix\n",
    "\n",
    "Create a matrix. Then subtract the mean of each row of the matrix from the respective row. Do this without using a loop (that is, using array operations)."
   ]
  },
  {
   "cell_type": "code",
   "execution_count": 12,
   "metadata": {
    "collapsed": false
   },
   "outputs": [
    {
     "name": "stdout",
     "output_type": "stream",
     "text": [
      "[[ 0.48347806  0.0947735   0.01373419  0.78004735]\n",
      " [ 0.71571996  0.97166314  0.86970575  0.02567469]\n",
      " [ 0.09518963  0.14324669  0.09121743  0.78671366]\n",
      " [ 0.36627626  0.23059176  0.1228657   0.13211214]]\n",
      "[[ 0.14046979 -0.24823477 -0.32927409  0.43703907]\n",
      " [ 0.07002907  0.32597226  0.22401487 -0.62001619]\n",
      " [-0.18390222 -0.13584516 -0.18787442  0.5076218 ]\n",
      " [ 0.15331479  0.0176303  -0.09009576 -0.08084932]]\n"
     ]
    }
   ],
   "source": [
    "a = np.random.rand(4,4) # Create a random array.\n",
    "m = a - a.mean(axis=1)[:, np.newaxis] # Get the means of the rows and subtract them from each element.\n",
    "\n",
    "print(a) # Print the original array.\n",
    "print(m) # Print the array with row means subtracted!"
   ]
  },
  {
   "cell_type": "markdown",
   "metadata": {},
   "source": [
    "### 11. Multiply arrays\n",
    "\n",
    "Multiply an array of dimension (5,5,3) with an array with dimensions (5,5). Then multiply an array of dimension (3,5,5) with an array of dimension (5,5)."
   ]
  },
  {
   "cell_type": "code",
   "execution_count": 13,
   "metadata": {
    "collapsed": false
   },
   "outputs": [
    {
     "name": "stdout",
     "output_type": "stream",
     "text": [
      "[[[ 0.83805557  0.23671994  0.60962839]\n",
      "  [ 0.10609731  0.0532094   0.0043343 ]\n",
      "  [ 0.4489007   0.07105933  0.39183065]\n",
      "  [ 0.70902536  0.69344457  0.82132443]\n",
      "  [ 0.33619171  0.08353029  0.00096089]]\n",
      "\n",
      " [[ 0.01527385  0.02976941  0.03363145]\n",
      "  [ 0.05393     0.24173344  0.00812305]\n",
      "  [ 0.24113581  0.57526246  0.68146941]\n",
      "  [ 0.04859116  0.29155478  0.63421462]\n",
      "  [ 0.16921211  0.51344044  0.6002966 ]]\n",
      "\n",
      " [[ 0.11328336  0.00895863  0.13780774]\n",
      "  [ 0.09410183  0.40117768  0.57734868]\n",
      "  [ 0.13380895  0.49563495  0.20438256]\n",
      "  [ 0.03481127  0.55324021  0.23791998]\n",
      "  [ 0.21697017  0.25553467  0.2736453 ]]\n",
      "\n",
      " [[ 0.2220427   0.10367179  0.06435526]\n",
      "  [ 0.09057875  0.21781656  0.4099894 ]\n",
      "  [ 0.14497478  0.0820273   0.15614083]\n",
      "  [ 0.34728394  0.72685497  0.53007251]\n",
      "  [ 0.15604769  0.42122689  0.63909973]]\n",
      "\n",
      " [[ 0.00939907  0.51886286  0.12733496]\n",
      "  [ 0.03020961  0.26243258  0.25445864]\n",
      "  [ 0.21587912  0.63627886  0.34195095]\n",
      "  [ 0.07973158  0.00159747  0.13765217]\n",
      "  [ 0.57033906  0.58039547  0.42963559]]]\n"
     ]
    }
   ],
   "source": [
    "a = np.random.rand(5,5,3) # You cannot multiply arrays of these sizes together!\n",
    "b = np.random.rand(5,5) # You cannot multiply arrays of these sizes together!\n",
    "c = b[:,:,np.newaxis] # Adding a new axis to the end of the 5 x 5 dimension! This will fix the issue.\n",
    "#print(a * b)\n",
    "print(a * c)"
   ]
  },
  {
   "cell_type": "code",
   "execution_count": 14,
   "metadata": {
    "collapsed": false,
    "scrolled": true
   },
   "outputs": [
    {
     "name": "stdout",
     "output_type": "stream",
     "text": [
      "[[[ 0.01275167  0.76198252  0.03433063  0.43090723  0.57134084]\n",
      "  [ 0.638579    0.4194962   0.05536578  0.44199727  0.05309997]\n",
      "  [ 0.10387674  0.03855202  0.19695866  0.49628243  0.28320319]\n",
      "  [ 0.00534846  0.12639931  0.0038509   0.12423107  0.14314025]\n",
      "  [ 0.28560535  0.14438701  0.66182614  0.49059665  0.03775036]]\n",
      "\n",
      " [[ 0.1000608   0.84079742  0.06424656  0.13173238  0.23330989]\n",
      "  [ 0.66865989  0.41873183  0.02248089  0.84656994  0.29248328]\n",
      "  [ 0.1414446   0.15568904  0.14057512  0.15315149  0.54075419]\n",
      "  [ 0.31400423  0.10056302  0.01043381  0.17814102  0.18159369]\n",
      "  [ 0.03754703  0.53385246  0.90010428  0.03805776  0.45537313]]\n",
      "\n",
      " [[ 0.01283567  0.13143944  0.04665968  0.35298848  0.10260634]\n",
      "  [ 0.66549523  0.29941062  0.05044687  0.69021091  0.08477783]\n",
      "  [ 0.04339895  0.0178827   0.33904151  0.6067873   0.10701253]\n",
      "  [ 0.4111028   0.09028524  0.00141709  0.25628417  0.1044718 ]\n",
      "  [ 0.20889208  0.73467804  0.43548353  0.20428244  0.36543926]]]\n"
     ]
    }
   ],
   "source": [
    "c = np.random.rand(3,5,5) \n",
    "d = np.random.rand(5,5)\n",
    "print(c * d)"
   ]
  },
  {
   "cell_type": "markdown",
   "metadata": {},
   "source": [
    "### 12. Creating a new array\n",
    "\n",
    "Starting with an array\n",
    "\n",
    "    Z = [1,2,3,4,5,6,7,8,9,10,11,12,13,14].\n",
    "    \n",
    "Generate an array \n",
    "\n",
    "    R = [[1,2,3,4], [2,3,4,5], [3,4,5,6], ..., [11,12,13,14]]. "
   ]
  },
  {
   "cell_type": "code",
   "execution_count": 15,
   "metadata": {
    "collapsed": false
   },
   "outputs": [
    {
     "name": "stdout",
     "output_type": "stream",
     "text": [
      "[[ 1  2  3  4]\n",
      " [ 2  3  4  5]\n",
      " [ 3  4  5  6]\n",
      " [ 4  5  6  7]\n",
      " [ 5  6  7  8]\n",
      " [ 6  7  8  9]\n",
      " [ 7  8  9 10]\n",
      " [ 8  9 10 11]\n",
      " [ 9 10 11 12]\n",
      " [10 11 12 13]\n",
      " [11 12 13 14]]\n"
     ]
    }
   ],
   "source": [
    "Z = np.arange(1,15,dtype=np.uint32)\n",
    "R = stride_tricks.as_strided(Z,(11,4),(4,4)) # This could also have been done with a loop. BUT, this is faster. Found in numpy documentation.\n",
    "print(R)"
   ]
  },
  {
   "cell_type": "markdown",
   "metadata": {},
   "source": [
    "### 13. Convert from Cartesian to polar coordinates\n",
    "\n",
    "Write a function `cart2polar(xy)` which takes in an Nx2 matrix of `x, y` pairs representing Cartesian coordinates and return the locations represented in polar coordinates in the same shape matrix. The API is\n",
    "\n",
    "    Return equivalent polar coordinates of specified cartesian points.\n",
    "    \n",
    "    Inputs:\n",
    "        xy: array\n",
    "             Nx2 array of Cartesian coordinates, with columns x and y respectively.\n",
    "\n",
    "    Returns:\n",
    "        rp: array\n",
    "            Nx2 array of polar coordinates, with columns radius and angle respectively\n"
   ]
  },
  {
   "cell_type": "code",
   "execution_count": 16,
   "metadata": {
    "collapsed": false
   },
   "outputs": [
    {
     "name": "stdout",
     "output_type": "stream",
     "text": [
      "(array([ 0.72570954,  0.33960822,  0.87998945]), array([ 0.90691412,  0.46043346,  1.13356118]))\n"
     ]
    }
   ],
   "source": [
    "'''Return equivalent polar coordinates of specified cartesian points.\n",
    "\n",
    "Inputs:\n",
    "    xy: array\n",
    "         Nx2 array of Cartesian coordinates, with columns x and y respectively.\n",
    "\n",
    "Returns:\n",
    "    rp: array\n",
    "        Nx2 array of polar coordinates, with columns radius and angle respectively'''\n",
    "\n",
    "c = np.random.rand(3,2) # Create an array of dimensions 3 x 2.\n",
    "\n",
    "def cart2polar(xy):\n",
    "    x, y = xy[:,0],xy[:,1] # Get the columns from the array and and assign to x and y.\n",
    "    rho = np.sqrt(x**2 + y**2) # Convert coordiantes!\n",
    "    phi = np.arctan2(y, x) # Convert coordinates!\n",
    "    return(rho, phi)\n",
    "\n",
    "print (cart2polar(c)) # Test the function."
   ]
  },
  {
   "cell_type": "markdown",
   "metadata": {},
   "source": [
    "### 14. Compute and time for loops and array operations.\n",
    "\n",
    "Calculate the time it takes to do what we did in class\n",
    "\n",
    "    a = np.arange(1024.0).reshape(4, 8, 16, 2)   # a 4D array using sequential numbers\n",
    "    b = np.random.rand(4, 8, 16, 2)              # a 4D array using random numbers\n",
    "    sol = a * b  # element-by-element multiplication. This operation is about as fast as it can be on your computer.\n",
    "\n",
    "and the time required for doing the same operation with a series of 4 `for` loops, one for each dimension of the arrays. Compare the times by calculating a ratio."
   ]
  },
  {
   "cell_type": "code",
   "execution_count": 86,
   "metadata": {
    "collapsed": false
   },
   "outputs": [
    {
     "name": "stdout",
     "output_type": "stream",
     "text": [
      "0.000230073928833 seconds have passed (non-loop method).\n",
      "0.013635158538818 seconds have passed (loop method).\n",
      "The loop method takes 59.26424870466321 longer!\n",
      "The loop method clearly takes longer!\n"
     ]
    }
   ],
   "source": [
    "# 1. Calcuate the time for a, b, and sol.\n",
    "\n",
    "t_start_1 = time.time()\n",
    "a = np.arange(1024.0).reshape(4, 8, 16, 2)\n",
    "b = np.random.rand(4, 8, 16, 2)\n",
    "sol = a * b\n",
    "t_stop_1 = time.time()\n",
    "\n",
    "Time1 = t_stop_1-t_start_1 # Used for ratio calculation.\n",
    "\n",
    "print('{:6.15f} seconds have passed (non-loop method).'.format(t_stop_1-t_start_1))\n",
    "\n",
    "# 2. Using the 4 for loops!\n",
    "\n",
    "t_start_2 = time.time()\n",
    "\n",
    "empty = [] # Create an empty list.\n",
    "\n",
    "# Use a nested loop to go over each dimension (i,j,k,l).\n",
    "\n",
    "for i in range (a.shape [0]): # Loop for i.\n",
    "    for j in range (a.shape [1]): # Loop for j.\n",
    "        for k in range (a.shape [2]): # Loop for k.\n",
    "            for l in range (a.shape [3]): # Loop for l.\n",
    "                empty = np.append(empty, a[i , j , k , l] * b [i , j, k, l]) # Append elements to list.\n",
    "                \n",
    "new = empty.reshape(4, 8, 16, 2) # Reshape the array!\n",
    "                           \n",
    "t_stop_2 = time.time() \n",
    "\n",
    "Time2 = t_stop_2-t_start_2 # Used for ratio calculation.\n",
    "Ratio = Time2/Time1 # Calculate the ratio.\n",
    "\n",
    "print('{:6.15f} seconds have passed (loop method).'.format(t_stop_2-t_start_2)) \n",
    "\n",
    "print('The loop method takes ' +str(Ratio)+ ' longer!') # Print the ratio!\n",
    "\n",
    "print('The loop method clearly takes longer!')"
   ]
  },
  {
   "cell_type": "markdown",
   "metadata": {},
   "source": [
    "### 15. Fix the code\n",
    "\n",
    "This code needs to be fixed so that it can run properly and pass the assertion test at the bottom. Write out what you changed to make it work and why it needed to be changed.\n",
    "\n",
    "Things I changed in the code:\n",
    "\n",
    "* Added a colon after [aa = a[:2,:]!\n",
    "* Transposed a using the .T function.\n",
    "* Commented out a[:2, :] -= aa!\n",
    "* In the return statement, transposed (t*b).T."
   ]
  },
  {
   "cell_type": "code",
   "execution_count": 82,
   "metadata": {
    "collapsed": false
   },
   "outputs": [
    {
     "name": "stdout",
     "output_type": "stream",
     "text": [
      "[[ 2.25  2.25]\n",
      " [ 2.25  2.25]\n",
      " [ 3.    3.  ]]\n"
     ]
    }
   ],
   "source": [
    "def calculate(a, b):\n",
    "    '''Do some calculations\n",
    "    \n",
    "    Take in two arrays, subtract 1/4 of the [:2,:] elements from the elements themselves.\n",
    "    Then multiply with array b and return the result.\n",
    "    \n",
    "    Inputs:\n",
    "        a: input array, shape [MxN]\n",
    "        b: input array, shape [M]\n",
    "    \n",
    "    Returns:\n",
    "        resultant array\n",
    "    '''\n",
    "\n",
    "    aa = a[:2,:] \n",
    "    aa -= (aa/4)\n",
    "    #a[:2, :] -= aa\n",
    "    t = a.T\n",
    "\n",
    "    return (t * b).T\n",
    "    \n",
    "a = np.ones((3, 2))\n",
    "b = np.ones(3)*3\n",
    "res = calculate(a, b)\n",
    "\n",
    "print (res) # Test to see if changes worked!\n",
    "\n",
    "assert (res == np.array([[ 2.25,  2.25],[ 2.25,  2.25],[ 3., 3.]])).all()"
   ]
  },
  {
   "cell_type": "markdown",
   "metadata": {},
   "source": [
    "### 16. Calculate components of a vector\n",
    "\n",
    "Read in file `data/burl1h2010.txt`. This file gives a bunch of data from a wind station. In particular, read in the wind direction, `WDIR`, and wind speed, `WSPD`. Then, write a function that calculates and returns the `u` and `v` components of this wind vector, which point along the x- and y-axes.\n",
    "\n",
    "The function should have the following basic functionality:\n",
    "\n",
    "    Take in vector and return components.\n",
    "    \n",
    "    Inputs:\n",
    "        vdir: vector direction in degrees\n",
    "        vspd: vector magnitude\n",
    "        \n",
    "    Returns:\n",
    "        u: x component of vector\n",
    "        v: y component of vector\n"
   ]
  },
  {
   "cell_type": "code",
   "execution_count": 19,
   "metadata": {
    "collapsed": false,
    "scrolled": true
   },
   "outputs": [
    {
     "name": "stdout",
     "output_type": "stream",
     "text": [
      "(array([-1.39148661, -3.19668806, -1.21206139, ..., -9.04175518,\n",
      "        4.27262701,  7.13235823]), array([  2.65777445,  -1.65565257,  -3.06934964, ...,   6.94310185,\n",
      "        11.10651423,  -7.29173958]))\n"
     ]
    }
   ],
   "source": [
    "'''Take in vector and return components.\n",
    "\n",
    "Inputs:\n",
    "    vdir: vector direction in degrees\n",
    "    vspd: vector magnitude\n",
    "\n",
    "Returns:\n",
    "    u: x component of vector\n",
    "    v: y component of vector'''\n",
    "\n",
    "data = np.loadtxt('burl1h2010.txt') # Read in the file.\n",
    "wind_dir = data[: ,5] # Get the wind direction.\n",
    "wind_speed = data[:, 6] # Get the wind speed.\n",
    "\n",
    "def components(x, y):\n",
    "    u = wind_speed * np.cos(wind_dir) # Caluculate u component.\n",
    "    v = wind_speed * np.sin(wind_dir) # Calculate v component.\n",
    "    return u, v\n",
    "\n",
    "print (components(wind_speed, wind_dir)) # Test the function."
   ]
  },
  {
   "cell_type": "markdown",
   "metadata": {},
   "source": [
    "### 17. (Grad) Write and use a class\n",
    "\n",
    "Consider one of the data files located in `python4geosciences/data/MCH/`. Write a class, `dataclass`, to store some of the information in the file. The class should:\n",
    "\n",
    "* be initialized with the name of the file (without file type suffix of .cnv2), and the temperature and salinity values found in the file;\n",
    "* contain a method, `salt_mean`, which returns the mean of the salinity;\n",
    "* contain a method, `temp_max`, which returns the maximum value of the temperature values.\n",
    "\n",
    "Notice that there are many data files in this directory. It would be a lot of work to read them all in by hand. Instead, write a loop which loops through the file names, reads in the necessary data, calls `dataclass` to store the data in a class instance, and adds it to a list of all of the class instances. At the end of your solution, you should have a list of all of the class instances, one for each data file. As usage examples, if your list of data objects is called `wind`, you should be able to access the temperatures from the 3rd file that is read in with\n",
    "\n",
    "    wind[2].temp\n",
    "\n",
    "and you should be able to calculate the mean salinity of the final file with \n",
    "\n",
    "    wind[-1].salt_mean()\n",
    "\n",
    "Hint: Check out the package `glob` for reading in file names with a wild card. "
   ]
  },
  {
   "cell_type": "code",
   "execution_count": 202,
   "metadata": {
    "collapsed": false
   },
   "outputs": [
    {
     "name": "stdout",
     "output_type": "stream",
     "text": [
      "[ 35.1922  35.1912  35.1912  35.1913  35.1913  35.1911  35.19    35.1897\n",
      "  35.1899  35.1902  35.1913  35.1911  35.1918  35.2404  35.6046  35.8828\n",
      "  35.9582  35.9642  35.9913  36.014   36.0248  36.049   36.0668  36.0943\n",
      "  36.1939  36.2494  36.2842  36.2993  36.303   36.3076  36.3088  36.3114\n",
      "  36.314   36.3144  36.3153  36.3163  36.3163  36.3169  36.3164  36.3151]\n",
      "[ 21.5275  21.5222  21.5207  21.5193  21.5212  21.5212  21.5293  21.5303\n",
      "  21.5291  21.5273  21.535   21.5324  21.5304  21.5497  21.6461  21.6703\n",
      "  21.646   21.6335  21.6219  21.6034  21.5907  21.5679  21.5487  21.529\n",
      "  21.4961  21.4982  21.5112  21.5219  21.5273  21.5353  21.538   21.5428\n",
      "  21.5461  21.5471  21.548   21.5485  21.5484  21.5479  21.5467  21.5466]\n",
      "35.828875\n",
      "21.6703\n"
     ]
    }
   ],
   "source": [
    "class dataclass(object): # Setting up the initial class.\n",
    "        \n",
    "    def __init__(self, filename, salinity, temp):\n",
    "        self.filename = filename\n",
    "        self.salinity = salinity\n",
    "        self.temp = temp\n",
    "    def salt_mean(self): # Salt_mean method.\n",
    "        return self.salinity.mean(axis=0) # Mean of the 6th column, salinity.\n",
    "    def temp_max(self): # Temp_max method.\n",
    "        return self.temp.max(axis=0) # Max of the 3rd column, temperature (°C). \n",
    "    \n",
    "e_list =[] # Set up an empty list.\n",
    "\n",
    "file_list = glob.glob('MCH/*.cnv2') # Using a wild card to read in all the data.\n",
    "\n",
    "for file in file_list:\n",
    "    data = np.genfromtxt(file, skip_header=57)\n",
    "    filename = file[4:-5]\n",
    "    salinity = data[:,5]\n",
    "    temp = data[:,2]\n",
    "    e_list.append(dataclass(filename, salinity, temp)) \n",
    "    \n",
    "print (e_list[-1].salinity) # Test!\n",
    "print (e_list[-1].temp) # Test!\n",
    "print (e_list[-1].salt_mean()) # Test!\n",
    "print (e_list[-1].temp_max()) # Test!"
   ]
  },
  {
   "cell_type": "markdown",
   "metadata": {},
   "source": [
    "### 18. (Grad) Running mean\n",
    "\n",
    "Write a function that computes averages using a sliding window over a vector; that is, it should take in a vector and for every element in the vector, compute the average of that point with the N points on either side of the element. N should also be an input parameter, and the function should return the original vector if N=0. The returned vector should be the same size as the input vector.\n",
    "\n",
    "Do not use the `pandas` package or the function `convolve`; instead, use a loop. Use the following API for your function:\n",
    "\n",
    "    Return the running average of a vector, with averaging window of size N.\n",
    "    \n",
    "    Inputs:\n",
    "        vec: Input vector\n",
    "        N (int): Averaging window size, or number of elements to include in mean on either side of each element.\n",
    "    \n",
    "    Outputs:\n",
    "        out: Vector of running-averaged values; same size as vec\n"
   ]
  },
  {
   "cell_type": "code",
   "execution_count": 21,
   "metadata": {
    "collapsed": false
   },
   "outputs": [
    {
     "name": "stdout",
     "output_type": "stream",
     "text": [
      "[  2.   3.   4.   5.   6.   7.   8.   9.  10.  11.  12.  13.  14.  15.  16.\n",
      "  17.  18.  19.  20.  21.  22.  23.  24.  25.  26.  27.  28.  29.  30.  31.\n",
      "  32.  33.  34.  35.  36.  37.  38.  39.  40.  41.  42.  43.  44.  45.  46.\n",
      "  47.  48.  49.  50.  51.  52.  53.  54.  55.  56.  57.  58.  59.  60.  61.\n",
      "  62.  63.  64.  65.  66.  67.  68.  69.  70.  71.  72.  73.  74.  75.  76.\n",
      "  77.  78.  79.  80.  81.  82.  83.  84.  85.  86.  87.  88.  89.  90.  91.\n",
      "  92.  93.  94.  95.  96.  97.  98.]\n",
      "[  0   1   2   3   4   5   6   7   8   9  10  11  12  13  14  15  16  17\n",
      "  18  19  20  21  22  23  24  25  26  27  28  29  30  31  32  33  34  35\n",
      "  36  37  38  39  40  41  42  43  44  45  46  47  48  49  50  51  52  53\n",
      "  54  55  56  57  58  59  60  61  62  63  64  65  66  67  68  69  70  71\n",
      "  72  73  74  75  76  77  78  79  80  81  82  83  84  85  86  87  88  89\n",
      "  90  91  92  93  94  95  96  97  98  99 100]\n"
     ]
    }
   ],
   "source": [
    "''' Return the running average of a vector, with averaging window of size N.\n",
    "\n",
    "Inputs:\n",
    "    vec: Input vector\n",
    "    N (int): Averaging window size, or number of elements to include in mean on either side of each element.\n",
    "\n",
    "Outputs:\n",
    "    out: Vector of running-averaged values; same size as vec'''\n",
    "\n",
    "x = np.arange(101) # Create a vector to test the function.\n",
    "\n",
    "def running_mean(x, N): # This is the solution that does not use a loop I discussed with you at the help session. It works.\n",
    "    if N == 0:\n",
    "        return x\n",
    "    else:\n",
    "        cumsum = np.cumsum(np.insert(x, 0, 0)) \n",
    "        return (cumsum[N:] - cumsum[:-N]) / N\n",
    "\n",
    "print (running_mean(x,5)) # Test the function using the random vector x with a window size of 5.\n",
    "print (running_mean(x,0)) # Test the function using the random vector x with a window size 0 of (returns orignal vector)."
   ]
  }
 ],
 "metadata": {
  "kernelspec": {
   "display_name": "Python 3",
   "language": "python",
   "name": "python3"
  },
  "language_info": {
   "codemirror_mode": {
    "name": "ipython",
    "version": 3
   },
   "file_extension": ".py",
   "mimetype": "text/x-python",
   "name": "python",
   "nbconvert_exporter": "python",
   "pygments_lexer": "ipython3",
   "version": "3.5.1"
  }
 },
 "nbformat": 4,
 "nbformat_minor": 0
}
